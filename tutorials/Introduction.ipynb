{
 "cells": [
  {
   "cell_type": "code",
   "execution_count": 1,
   "metadata": {},
   "outputs": [],
   "source": [
    "from synchrad.calc import SynchRad"
   ]
  },
  {
   "cell_type": "markdown",
   "metadata": {},
   "source": [
    "# Welcome to SynchRad\n",
    "\n",
    "This software calculates the spectral-spatial distibution of electromagnetic emission priduced by the relativistic charges using the Lienard-Wiechert and retarded potentials Fourier-transformed in time.\n",
    "\n",
    "The calculator goes in two flavours:\n",
    "- **far field** angular distibution computed using the Lienard-Wiechert potentials in the far field: \n",
    "$$ \\cfrac{\\mathrm{d}\\mathcal{W}}{\\mathrm{d}\\Omega\\, \\mathrm{d}\\omega} = \\frac{e^2}{4\\pi^2c} \\sum_p \\left| \\int_{-\\infty}^{\\infty} \\mathrm{d}t\\,\\cfrac{\\bf n\\!\\times\\! (\\bf n\\!-\\!\\beta)\\!\\times\\!\\dot{\\beta}}{(1-{\\bf n\\,\\beta})^2}\\;\\mathrm{e}^{i \\omega (t-\\mathbf{n}\\mathbf{r}_e/c )}\\right|^2\\,, $$\n",
    "- **near field** [TBD] angular distibution computed using the formula:\n",
    "$$ \\mathbf{E}_\\omega = i\\cfrac{e\\omega}{c}\\int_{-\\infty}^{\\infty} dt \\cfrac{1}{R} \\left[\\mathbf{\\beta} - \\mathbf{n} \\left(1+\\cfrac{ic}{\\omega R}\\right)\\right]\\mathrm{e}^{i \\omega (t+R/c )}$$\n",
    "for more details see [[O. Chubar, Infrared Physics & Technology 49, 96 (2006)][1]]\n",
    "\n",
    "This utility can be used to study the spontaneous emission from undulators or channels.\n",
    "\n",
    "[1]:https://doi.org/10.1016/j.infrared.2006.01.010"
   ]
  },
  {
   "cell_type": "markdown",
   "metadata": {},
   "source": [
    "## Contents\n",
    "\n",
    "The library structure includes a single class"
   ]
  },
  {
   "cell_type": "code",
   "execution_count": 2,
   "metadata": {},
   "outputs": [
    {
     "name": "stdout",
     "output_type": "stream",
     "text": [
      "\n",
      "    Main class of SynchRad which contains all methods for construction\n",
      "    of SR calculator object, running calculation, importing track data\n",
      "    and exporting the radiation data. Inheritesmethods to analyze the\n",
      "    simulation results.\n",
      "    \n"
     ]
    }
   ],
   "source": [
    "print(SynchRad.__doc__)"
   ]
  },
  {
   "cell_type": "markdown",
   "metadata": {},
   "source": [
    "which allows to create the calculator object:"
   ]
  },
  {
   "cell_type": "code",
   "execution_count": 3,
   "metadata": {},
   "outputs": [
    {
     "name": "stdout",
     "output_type": "stream",
     "text": [
      "\n",
      "        Initializes SynchRad using either a dictionary `Args` with calculation\n",
      "        parameters or exporting simulation from the file `file_spectrum`.\n",
      "        When initializing from file_spectrum` the file, should be created from\n",
      "        an executed simulation by the `calculate_spectrum` method\n",
      "\n",
      "        Arguments available in `Args` dictionary\n",
      "        ----------\n",
      "        grid: list\n",
      "            List of parameters to construct a grid in the 3D shperical\n",
      "            coordinates `(omega, theta, phi)`, where frequency omega is\n",
      "            in the units of `2*pi*c/lambda_u` with `lambda_u` being unit\n",
      "            distance used for tracked corrdinates, and `theta` and `phi`\n",
      "            are the elevation and rotation angles in radians. Format:\n",
      "            \"grid\": [\n",
      "                      (omega_min, omega_max),\n",
      "                      (theta_min, theta_max),\n",
      "                      (phi_min, phi_max),\n",
      "                      (N_omega, N_theta, N_phi),\n",
      "                    ]\n",
      "\n",
      "        mode: string (optional)\n",
      "            Calculation type which is by default far-field `\"far\"` or can\n",
      "            be near-field `\"near\"`. Only far-field is up-to-date currently.\n",
      "\n",
      "        dtype: string (optional)\n",
      "            Numerical precision to be used. By default is \"`double`\", but\n",
      "            can be set to \"`single`\" (be careful with that though).\n",
      "\n",
      "        ctx: string (optional)\n",
      "            Define of openCL context. If not provided will provide this\n",
      "            choice interactively (or take default if only one is available).\n",
      "            Possible choices are:\n",
      "            'none': initialized without any device\n",
      "            'mpi': use platform `0` and map multiple avaliable devices vie MPI\n",
      "            list of choices for platform and device [PlatformID, DeviceID]\n",
      "\n",
      "        Features: list of strings (optional)\n",
      "            Additional features. Currently has following options:\n",
      "              'wavelengthGrid': make frequency axis with uniform wavelength intervals\n",
      "              'logGrid': make frequency axis with intervals growing logarithmically\n",
      "        \n"
     ]
    }
   ],
   "source": [
    "print(SynchRad.__init__.__doc__)"
   ]
  },
  {
   "cell_type": "markdown",
   "metadata": {},
   "source": [
    "All calculation methods are grouped into a method `calculate_spectrum` with the following use:"
   ]
  },
  {
   "cell_type": "code",
   "execution_count": 4,
   "metadata": {},
   "outputs": [
    {
     "name": "stdout",
     "output_type": "stream",
     "text": [
      "\n",
      "        Main method to run the SR calculation.\n",
      "\n",
      "        Parameters\n",
      "        ----------\n",
      "        particleTracks: list\n",
      "            Container of the particles tracks. Each track has the format:\n",
      "            [x, y, z, uz, uy, uz, w, it_start], where first 6 are the\n",
      "            numpy arrays of coordinates and normalized momenta (`beta*gamma`),\n",
      "            `w` is a particle weight which defines a number of the real\n",
      "            particles, and `it_start` is an time step at which particle appears\n",
      "            relative to the whole interaction.\n",
      "\n",
      "        file_tracks: string\n",
      "            Path to the h5-file with tracks in a specific format, as created\n",
      "            by the available convertsion utilities (openPMD, VSIM)\n",
      "\n",
      "        timeStep: double\n",
      "            Step used in the tracks defined as `c*dt` and in the same units of\n",
      "            distance as the coordinates\n",
      "\n",
      "        comp: string (optional)\n",
      "            Define which vector components of emitted light to calculate.\n",
      "            Available choices are:\n",
      "              'total' (default): sum incoherently all components, e.g.\n",
      "                `SUM_tracks( |A_x|^2 + |A_y|^2 + |A_z|^2)`\n",
      "              'cartesian': record Cartesian components incoherently, e.g.\n",
      "                `SUM_tracks(|A_x|^2), SUM_tracks(|A_y|^2), SUM_tracks(|A_z|^2)`\n",
      "              'spheric': record spheric components incoherently, e.g.\n",
      "                `SUM_tracks(|A_r|^2), SUM_tracks(|A_theta|^2), SUM_tracks(|A_phi|^2)`\n",
      "              'cartesian_comples': record Cartesian components coherently, e.g.\n",
      "                `SUM_tracks(A_x), SUM_tracks(A_y), SUM_tracks(A_z)`\n",
      "\n",
      "        sigma_particle: double (optional)\n",
      "            Define size of the particle in distance units using Gaussian form factor\n",
      "\n",
      "        Np_max: integer\n",
      "            Define a number of tracks to use in calculation\n",
      "\n",
      "        nSnaps: integer (optional)\n",
      "            Number of records to make along the interaction time with uniform intervals\n",
      "\n",
      "        it_range:\n",
      "            Specify the range of iterations to consider along the interaction\n",
      "\n",
      "        file_spectrum: string\n",
      "            Path and name to the file to which write the radiation data along with\n",
      "            the simulation configuration\n",
      "        \n"
     ]
    }
   ],
   "source": [
    "print(SynchRad.calculate_spectrum.__doc__)"
   ]
  }
 ],
 "metadata": {
  "kernelspec": {
   "display_name": "Python 3",
   "language": "python",
   "name": "python3"
  },
  "language_info": {
   "codemirror_mode": {
    "name": "ipython",
    "version": 3
   },
   "file_extension": ".py",
   "mimetype": "text/x-python",
   "name": "python",
   "nbconvert_exporter": "python",
   "pygments_lexer": "ipython3",
   "version": "3.8.6"
  }
 },
 "nbformat": 4,
 "nbformat_minor": 4
}
